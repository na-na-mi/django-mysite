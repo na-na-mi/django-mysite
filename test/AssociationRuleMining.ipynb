{
 "cells": [
  {
   "cell_type": "code",
   "execution_count": 3,
   "metadata": {
    "collapsed": true,
    "ExecuteTime": {
     "end_time": "2023-06-07T07:58:05.075156800Z",
     "start_time": "2023-06-07T07:58:05.010450200Z"
    }
   },
   "outputs": [
    {
     "data": {
      "text/plain": "   行 ID            订单 ID        订单日期        发货日期  邮寄方式     客户 ID 客户名称  细分  城市  \\\n0     1  US-2018-1357144  2018-04-27  2018-04-29     4  曾惠-14485   曾惠   1  杭州   \n1     2  CN-2018-1973789  2018-06-15  2018-06-19     1  许安-10165   许安   3  内江   \n2     3  CN-2018-1973789  2018-06-15  2018-06-19     1  许安-10165   许安   3  内江   \n3     4  US-2018-3017568  2018-12-09  2018-12-13     1  宋良-17170   宋良   1  镇江   \n4     5  CN-2017-2975416  2017-05-31  2017-06-02     4  万兰-15730   万兰   3  汕头   \n\n  省/自治区  国家  地区            产品 ID    类别  子类别                产品名称       销售额  数量  \\\n0    浙江  中国  华东  办公用-用品-10002717  办公用品   用品      Fiskars 剪刀, 蓝色   129.696   2   \n1    四川  中国  西南  办公用-信封-10004832  办公用品   信封  GlobeWeis 搭扣信封, 红色   125.440   2   \n2    四川  中国  西南  办公用-装订-10001505  办公用品  装订机  Cardinal 孔加固材料, 回收    31.920   2   \n3    江苏  中国  华东  办公用-用品-10003746  办公用品   用品    Kleencut 开信刀, 工业   321.216   4   \n4    广东  中国  中南  办公用-器具-10003452  办公用品   器具  KitchenAid 搅拌机, 黑色  1375.920   3   \n\n    折扣       利润  \n0  0.4  -60.704  \n1  0.0   42.560  \n2  0.4    4.200  \n3  0.4  -27.104  \n4  0.0  550.200  ",
      "text/html": "<div>\n<style scoped>\n    .dataframe tbody tr th:only-of-type {\n        vertical-align: middle;\n    }\n\n    .dataframe tbody tr th {\n        vertical-align: top;\n    }\n\n    .dataframe thead th {\n        text-align: right;\n    }\n</style>\n<table border=\"1\" class=\"dataframe\">\n  <thead>\n    <tr style=\"text-align: right;\">\n      <th></th>\n      <th>行 ID</th>\n      <th>订单 ID</th>\n      <th>订单日期</th>\n      <th>发货日期</th>\n      <th>邮寄方式</th>\n      <th>客户 ID</th>\n      <th>客户名称</th>\n      <th>细分</th>\n      <th>城市</th>\n      <th>省/自治区</th>\n      <th>国家</th>\n      <th>地区</th>\n      <th>产品 ID</th>\n      <th>类别</th>\n      <th>子类别</th>\n      <th>产品名称</th>\n      <th>销售额</th>\n      <th>数量</th>\n      <th>折扣</th>\n      <th>利润</th>\n    </tr>\n  </thead>\n  <tbody>\n    <tr>\n      <th>0</th>\n      <td>1</td>\n      <td>US-2018-1357144</td>\n      <td>2018-04-27</td>\n      <td>2018-04-29</td>\n      <td>4</td>\n      <td>曾惠-14485</td>\n      <td>曾惠</td>\n      <td>1</td>\n      <td>杭州</td>\n      <td>浙江</td>\n      <td>中国</td>\n      <td>华东</td>\n      <td>办公用-用品-10002717</td>\n      <td>办公用品</td>\n      <td>用品</td>\n      <td>Fiskars 剪刀, 蓝色</td>\n      <td>129.696</td>\n      <td>2</td>\n      <td>0.4</td>\n      <td>-60.704</td>\n    </tr>\n    <tr>\n      <th>1</th>\n      <td>2</td>\n      <td>CN-2018-1973789</td>\n      <td>2018-06-15</td>\n      <td>2018-06-19</td>\n      <td>1</td>\n      <td>许安-10165</td>\n      <td>许安</td>\n      <td>3</td>\n      <td>内江</td>\n      <td>四川</td>\n      <td>中国</td>\n      <td>西南</td>\n      <td>办公用-信封-10004832</td>\n      <td>办公用品</td>\n      <td>信封</td>\n      <td>GlobeWeis 搭扣信封, 红色</td>\n      <td>125.440</td>\n      <td>2</td>\n      <td>0.0</td>\n      <td>42.560</td>\n    </tr>\n    <tr>\n      <th>2</th>\n      <td>3</td>\n      <td>CN-2018-1973789</td>\n      <td>2018-06-15</td>\n      <td>2018-06-19</td>\n      <td>1</td>\n      <td>许安-10165</td>\n      <td>许安</td>\n      <td>3</td>\n      <td>内江</td>\n      <td>四川</td>\n      <td>中国</td>\n      <td>西南</td>\n      <td>办公用-装订-10001505</td>\n      <td>办公用品</td>\n      <td>装订机</td>\n      <td>Cardinal 孔加固材料, 回收</td>\n      <td>31.920</td>\n      <td>2</td>\n      <td>0.4</td>\n      <td>4.200</td>\n    </tr>\n    <tr>\n      <th>3</th>\n      <td>4</td>\n      <td>US-2018-3017568</td>\n      <td>2018-12-09</td>\n      <td>2018-12-13</td>\n      <td>1</td>\n      <td>宋良-17170</td>\n      <td>宋良</td>\n      <td>1</td>\n      <td>镇江</td>\n      <td>江苏</td>\n      <td>中国</td>\n      <td>华东</td>\n      <td>办公用-用品-10003746</td>\n      <td>办公用品</td>\n      <td>用品</td>\n      <td>Kleencut 开信刀, 工业</td>\n      <td>321.216</td>\n      <td>4</td>\n      <td>0.4</td>\n      <td>-27.104</td>\n    </tr>\n    <tr>\n      <th>4</th>\n      <td>5</td>\n      <td>CN-2017-2975416</td>\n      <td>2017-05-31</td>\n      <td>2017-06-02</td>\n      <td>4</td>\n      <td>万兰-15730</td>\n      <td>万兰</td>\n      <td>3</td>\n      <td>汕头</td>\n      <td>广东</td>\n      <td>中国</td>\n      <td>中南</td>\n      <td>办公用-器具-10003452</td>\n      <td>办公用品</td>\n      <td>器具</td>\n      <td>KitchenAid 搅拌机, 黑色</td>\n      <td>1375.920</td>\n      <td>3</td>\n      <td>0.0</td>\n      <td>550.200</td>\n    </tr>\n  </tbody>\n</table>\n</div>"
     },
     "execution_count": 3,
     "metadata": {},
     "output_type": "execute_result"
    }
   ],
   "source": [
    "import numpy as np\n",
    "import pandas as pd\n",
    "data = pd.read_csv(r\"../static/data/导入订单utf8.csv\")\n",
    "data.head(5)"
   ]
  },
  {
   "cell_type": "code",
   "execution_count": 7,
   "outputs": [
    {
     "data": {
      "text/plain": "   子类别\n0   用品\n1   信封\n2  装订机\n3   用品\n4   器具",
      "text/html": "<div>\n<style scoped>\n    .dataframe tbody tr th:only-of-type {\n        vertical-align: middle;\n    }\n\n    .dataframe tbody tr th {\n        vertical-align: top;\n    }\n\n    .dataframe thead th {\n        text-align: right;\n    }\n</style>\n<table border=\"1\" class=\"dataframe\">\n  <thead>\n    <tr style=\"text-align: right;\">\n      <th></th>\n      <th>子类别</th>\n    </tr>\n  </thead>\n  <tbody>\n    <tr>\n      <th>0</th>\n      <td>用品</td>\n    </tr>\n    <tr>\n      <th>1</th>\n      <td>信封</td>\n    </tr>\n    <tr>\n      <th>2</th>\n      <td>装订机</td>\n    </tr>\n    <tr>\n      <th>3</th>\n      <td>用品</td>\n    </tr>\n    <tr>\n      <th>4</th>\n      <td>器具</td>\n    </tr>\n  </tbody>\n</table>\n</div>"
     },
     "execution_count": 7,
     "metadata": {},
     "output_type": "execute_result"
    }
   ],
   "source": [
    "son_Series = pd.read_csv(r\"../static/data/导入订单utf8.csv\", usecols=['子类别'])\n",
    "son_Series.head()"
   ],
   "metadata": {
    "collapsed": false,
    "ExecuteTime": {
     "end_time": "2023-06-07T08:05:29.400922500Z",
     "start_time": "2023-06-07T08:05:29.359905100Z"
    }
   }
  },
  {
   "cell_type": "code",
   "execution_count": 5,
   "outputs": [
    {
     "name": "stdout",
     "output_type": "stream",
     "text": [
      "Index(['行 ID', '订单 ID', '订单日期', '发货日期', '邮寄方式', '客户 ID', '客户名称', '细分', '城市',\n",
      "       '省/自治区', '国家', '地区', '产品 ID', '类别', '子类别', '产品名称', '销售额', '数量', '折扣',\n",
      "       '利润'],\n",
      "      dtype='object')\n"
     ]
    }
   ],
   "source": [
    "column_index = data.columns\n",
    "print(column_index)"
   ],
   "metadata": {
    "collapsed": false,
    "ExecuteTime": {
     "end_time": "2023-06-07T08:02:55.389719200Z",
     "start_time": "2023-06-07T08:02:55.295843100Z"
    }
   }
  },
  {
   "cell_type": "code",
   "execution_count": null,
   "outputs": [],
   "source": [],
   "metadata": {
    "collapsed": false
   }
  }
 ],
 "metadata": {
  "kernelspec": {
   "display_name": "Python 3",
   "language": "python",
   "name": "python3"
  },
  "language_info": {
   "codemirror_mode": {
    "name": "ipython",
    "version": 2
   },
   "file_extension": ".py",
   "mimetype": "text/x-python",
   "name": "python",
   "nbconvert_exporter": "python",
   "pygments_lexer": "ipython2",
   "version": "2.7.6"
  }
 },
 "nbformat": 4,
 "nbformat_minor": 0
}
